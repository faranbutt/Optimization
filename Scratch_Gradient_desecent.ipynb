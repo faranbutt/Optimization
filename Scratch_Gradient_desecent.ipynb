{
  "nbformat": 4,
  "nbformat_minor": 0,
  "metadata": {
    "colab": {
      "provenance": []
    },
    "kernelspec": {
      "name": "python3",
      "display_name": "Python 3"
    },
    "language_info": {
      "name": "python"
    }
  },
  "cells": [
    {
      "cell_type": "code",
      "execution_count": 10,
      "metadata": {
        "id": "eqcmG88awEso"
      },
      "outputs": [],
      "source": [
        "import numpy as np"
      ]
    },
    {
      "cell_type": "code",
      "source": [
        "def f(w1,w2,x):\n",
        "  '''\n",
        "  f = funtion we are trying to estimate the parameters\n",
        "  w1 = bias\n",
        "  w2 = slope\n",
        "  x = a point in a plane\n",
        "  '''\n",
        "  yhat = w1 + w2 * x\n",
        "  return yhat"
      ],
      "metadata": {
        "id": "96IGaA4DynqF"
      },
      "execution_count": 11,
      "outputs": []
    },
    {
      "cell_type": "code",
      "source": [
        "def dx_w1(w1,w2,x,y):\n",
        "  '''\n",
        "  dx_w1 = derivative of the loss function with respect to w1\n",
        "   w1 = bias\n",
        "  w2 = slope\n",
        "  x = a point in a plane\n",
        "  y = target value\n",
        "  '''\n",
        "  yhat = f(w1,w2,x)\n",
        "  gradient = 2 * (yhat - y)\n",
        "  return gradient\n"
      ],
      "metadata": {
        "id": "AfQfT7qdzGd3"
      },
      "execution_count": 12,
      "outputs": []
    },
    {
      "cell_type": "code",
      "source": [
        "def dx_w2(w1,w2,x,y):\n",
        "  '''\n",
        "  dx_w2 = derivative of the loss function with respect to w2\n",
        "  w1 = bias\n",
        "  w2 = slope\n",
        "  x = a point in a plane\n",
        "  y = target value\n",
        "  '''\n",
        "  yhat = f(w1,w2,x)\n",
        "  gradient = 2 * x *(yhat - y)\n",
        "  return gradient"
      ],
      "metadata": {
        "id": "gI3H05gEzuKl"
      },
      "execution_count": 13,
      "outputs": []
    },
    {
      "cell_type": "code",
      "source": [
        "def gradient_w1(w1,w2,xs,ys):\n",
        "  '''\n",
        "  w1 = bias\n",
        "  w2 = slope\n",
        "  xs = input values on plane\n",
        "  ys = output values on plane\n",
        "  '''\n",
        "  N = len(ys)\n",
        "  total = 0\n",
        "  for x,y in zip(xs,ys):\n",
        "    total = total + dx_w1(w1,w2,x,y)\n",
        "  gradient = total / N\n",
        "  return gradient"
      ],
      "metadata": {
        "id": "ngXFofNe2BEa"
      },
      "execution_count": 14,
      "outputs": []
    },
    {
      "cell_type": "code",
      "source": [
        "def gradient_w2(w1,w2,xs,ys):\n",
        "  '''\n",
        "  w1 = bias\n",
        "  w2 = slope\n",
        "  xs = input values on plane\n",
        "  ys = output values on plane\n",
        "  '''\n",
        "  N = len(ys)\n",
        "  total = 0\n",
        "  for x,y in zip(xs,ys):\n",
        "    total = total + dx_w2(w1,w2,x,y)\n",
        "  gradient = total / N\n",
        "  return gradient"
      ],
      "metadata": {
        "id": "agHegQSq1OqF"
      },
      "execution_count": 15,
      "outputs": []
    },
    {
      "cell_type": "code",
      "source": [
        "def gradient_descent(xs,ys,learning_rate = 0.01,max_run_iteration = 1000):\n",
        "  '''\n",
        "  xs = list of x values\n",
        "  ys = list of y values\n",
        "  learning_rate = learning rate\n",
        "  max_run_iteration = maximum number of iterations\n",
        "  '''\n",
        "  w1 = np.random.uniform(0,1,1)\n",
        "  w2 = np.random.uniform(0,1,1)\n",
        "  for i in range(max_run_iteration):\n",
        "    w1 = w1 - learning_rate * gradient_w1(w1,w2,xs,ys)\n",
        "    w2 = w2 - learning_rate * gradient_w2(w1,w2,xs,ys)\n",
        "    if i % 100 == 0:\n",
        "      print(f\"Iteration {i}: w1 = {w1}, w2 = {w2}\")\n",
        "  return w1,w2\n"
      ],
      "metadata": {
        "id": "MV3kHf0g0M7w"
      },
      "execution_count": 16,
      "outputs": []
    },
    {
      "cell_type": "code",
      "source": [
        "# Here we have a simple line with intercept = 0 and slope = 2\n",
        "xs = [1,2,3,4,5,6,7]\n",
        "ys = [2,4,6,8,10,12,14]\n",
        "w1,w2 = gradient_descent(xs,ys)\n",
        "print(w1,w2)"
      ],
      "metadata": {
        "colab": {
          "base_uri": "https://localhost:8080/"
        },
        "id": "jwT_3iC61OMf",
        "outputId": "65e68f4b-32b7-4515-843e-da7a82f025d5"
      },
      "execution_count": 17,
      "outputs": [
        {
          "output_type": "stream",
          "name": "stdout",
          "text": [
            "Iteration 0: w1 = [0.46319422], w2 = [1.27463625]\n",
            "Iteration 100: w1 = [0.39747469], w2 = [1.92003479]\n",
            "Iteration 200: w1 = [0.26876353], w2 = [1.9459293]\n",
            "Iteration 300: w1 = [0.18173191], w2 = [1.9634386]\n",
            "Iteration 400: w1 = [0.12288307], w2 = [1.975278]\n",
            "Iteration 500: w1 = [0.0830908], w2 = [1.98328353]\n",
            "Iteration 600: w1 = [0.05618415], w2 = [1.9886967]\n",
            "Iteration 700: w1 = [0.03799047], w2 = [1.99235696]\n",
            "Iteration 800: w1 = [0.02568831], w2 = [1.99483195]\n",
            "Iteration 900: w1 = [0.01736986], w2 = [1.99650548]\n",
            "[0.01179116] [1.99762782]\n"
          ]
        }
      ]
    },
    {
      "cell_type": "code",
      "source": [
        "# Here we have a simple line with intercept = 0 and slope = 1\n",
        "xs = [1,2,3,4,5,6,7]\n",
        "ys = [1,2,3,4,5,6,7]\n",
        "w1,w2 = gradient_descent(xs,ys)\n",
        "print(w1,w2)"
      ],
      "metadata": {
        "colab": {
          "base_uri": "https://localhost:8080/"
        },
        "id": "4MmVzd6B2le5",
        "outputId": "c3ea5558-b214-49a4-c7ff-f57761ca6dfd"
      },
      "execution_count": 18,
      "outputs": [
        {
          "output_type": "stream",
          "name": "stdout",
          "text": [
            "Iteration 0: w1 = [0.16667347], w2 = [0.58940605]\n",
            "Iteration 100: w1 = [0.16296559], w2 = [0.96721407]\n",
            "Iteration 200: w1 = [0.1101937], w2 = [0.97783088]\n",
            "Iteration 300: w1 = [0.07451053], w2 = [0.98500974]\n",
            "Iteration 400: w1 = [0.05038236], w2 = [0.98986392]\n",
            "Iteration 500: w1 = [0.03406743], w2 = [0.99314621]\n",
            "Iteration 600: w1 = [0.02303564], w2 = [0.99536562]\n",
            "Iteration 700: w1 = [0.01557618], w2 = [0.99686633]\n",
            "Iteration 800: w1 = [0.01053227], w2 = [0.99788108]\n",
            "Iteration 900: w1 = [0.00712169], w2 = [0.99856724]\n",
            "[0.00483441] [0.9990274]\n"
          ]
        }
      ]
    },
    {
      "cell_type": "code",
      "source": [
        "# Here we have a simple line with intercept = 1 and slope = 2 at\n",
        "xs = [1,2,3,4,5,6,7]\n",
        "ys = [3,5,7,9,11,13,15]\n",
        "w1,w2 = gradient_descent(xs,ys)\n",
        "print(w1,w2)"
      ],
      "metadata": {
        "colab": {
          "base_uri": "https://localhost:8080/"
        },
        "id": "_jIoWbx62xxE",
        "outputId": "f4d007d2-2eef-4087-f920-4bc37513f1d9"
      },
      "execution_count": 19,
      "outputs": [
        {
          "output_type": "stream",
          "name": "stdout",
          "text": [
            "Iteration 0: w1 = [0.10290539], w2 = [1.45952665]\n",
            "Iteration 100: w1 = [0.48951218], w2 = [2.10270155]\n",
            "Iteration 200: w1 = [0.65481951], w2 = [2.0694445]\n",
            "Iteration 300: w1 = [0.76659664], w2 = [2.04695682]\n",
            "Iteration 400: w1 = [0.84217785], w2 = [2.03175116]\n",
            "Iteration 500: w1 = [0.89328418], w2 = [2.02146943]\n",
            "Iteration 600: w1 = [0.92784114], w2 = [2.01451715]\n",
            "Iteration 700: w1 = [0.95120778], w2 = [2.00981617]\n",
            "Iteration 800: w1 = [0.96700779], w2 = [2.00663748]\n",
            "Iteration 900: w1 = [0.9776914], w2 = [2.00448811]\n",
            "[0.98485628] [2.00304666]\n"
          ]
        }
      ]
    },
    {
      "cell_type": "code",
      "source": [],
      "metadata": {
        "id": "BYX1G8pS3CDd"
      },
      "execution_count": null,
      "outputs": []
    }
  ]
}